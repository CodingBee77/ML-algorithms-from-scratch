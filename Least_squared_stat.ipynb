{
 "cells": [
  {
   "cell_type": "markdown",
   "metadata": {},
   "source": [
    "# Imports"
   ]
  },
  {
   "cell_type": "code",
   "execution_count": 1,
   "metadata": {},
   "outputs": [],
   "source": [
    "import numpy as np\n",
    "import matplotlib.pyplot as plt\n",
    "import pandas as pd"
   ]
  },
  {
   "cell_type": "markdown",
   "metadata": {},
   "source": [
    "# Generate dataset"
   ]
  },
  {
   "cell_type": "code",
   "execution_count": 2,
   "metadata": {},
   "outputs": [
    {
     "data": {
      "text/html": [
       "<div>\n",
       "<style scoped>\n",
       "    .dataframe tbody tr th:only-of-type {\n",
       "        vertical-align: middle;\n",
       "    }\n",
       "\n",
       "    .dataframe tbody tr th {\n",
       "        vertical-align: top;\n",
       "    }\n",
       "\n",
       "    .dataframe thead th {\n",
       "        text-align: right;\n",
       "    }\n",
       "</style>\n",
       "<table border=\"1\" class=\"dataframe\">\n",
       "  <thead>\n",
       "    <tr style=\"text-align: right;\">\n",
       "      <th></th>\n",
       "      <th>X</th>\n",
       "      <th>Y</th>\n",
       "    </tr>\n",
       "  </thead>\n",
       "  <tbody>\n",
       "    <tr>\n",
       "      <th>0</th>\n",
       "      <td>0.548814</td>\n",
       "      <td>4.324257</td>\n",
       "    </tr>\n",
       "    <tr>\n",
       "      <th>1</th>\n",
       "      <td>0.715189</td>\n",
       "      <td>4.415576</td>\n",
       "    </tr>\n",
       "    <tr>\n",
       "      <th>2</th>\n",
       "      <td>0.602763</td>\n",
       "      <td>4.543484</td>\n",
       "    </tr>\n",
       "    <tr>\n",
       "      <th>3</th>\n",
       "      <td>0.544883</td>\n",
       "      <td>4.596838</td>\n",
       "    </tr>\n",
       "    <tr>\n",
       "      <th>4</th>\n",
       "      <td>0.423655</td>\n",
       "      <td>3.519718</td>\n",
       "    </tr>\n",
       "    <tr>\n",
       "      <th>...</th>\n",
       "      <td>...</td>\n",
       "      <td>...</td>\n",
       "    </tr>\n",
       "    <tr>\n",
       "      <th>95</th>\n",
       "      <td>0.183191</td>\n",
       "      <td>3.040033</td>\n",
       "    </tr>\n",
       "    <tr>\n",
       "      <th>96</th>\n",
       "      <td>0.586513</td>\n",
       "      <td>3.986953</td>\n",
       "    </tr>\n",
       "    <tr>\n",
       "      <th>97</th>\n",
       "      <td>0.020108</td>\n",
       "      <td>2.314679</td>\n",
       "    </tr>\n",
       "    <tr>\n",
       "      <th>98</th>\n",
       "      <td>0.828940</td>\n",
       "      <td>4.544849</td>\n",
       "    </tr>\n",
       "    <tr>\n",
       "      <th>99</th>\n",
       "      <td>0.004695</td>\n",
       "      <td>2.448503</td>\n",
       "    </tr>\n",
       "  </tbody>\n",
       "</table>\n",
       "<p>100 rows × 2 columns</p>\n",
       "</div>"
      ],
      "text/plain": [
       "           X         Y\n",
       "0   0.548814  4.324257\n",
       "1   0.715189  4.415576\n",
       "2   0.602763  4.543484\n",
       "3   0.544883  4.596838\n",
       "4   0.423655  3.519718\n",
       "..       ...       ...\n",
       "95  0.183191  3.040033\n",
       "96  0.586513  3.986953\n",
       "97  0.020108  2.314679\n",
       "98  0.828940  4.544849\n",
       "99  0.004695  2.448503\n",
       "\n",
       "[100 rows x 2 columns]"
      ]
     },
     "execution_count": 2,
     "metadata": {},
     "output_type": "execute_result"
    }
   ],
   "source": [
    "np.random.seed(0)\n",
    "x = np.random.rand(100, 1)\n",
    "y = 2 + 3 * x + np.random.rand(100, 1)\n",
    "df = pd.DataFrame({'X': x[:, 0], 'Y': y[:, 0]})\n",
    "df"
   ]
  },
  {
   "cell_type": "code",
   "execution_count": 3,
   "metadata": {},
   "outputs": [
    {
     "data": {
      "text/plain": [
       "(array([0.5488135 , 0.71518937, 0.60276338, 0.54488318, 0.4236548 ,\n",
       "        0.64589411, 0.43758721, 0.891773  , 0.96366276, 0.38344152,\n",
       "        0.79172504, 0.52889492, 0.56804456, 0.92559664, 0.07103606,\n",
       "        0.0871293 , 0.0202184 , 0.83261985, 0.77815675, 0.87001215,\n",
       "        0.97861834, 0.79915856, 0.46147936, 0.78052918, 0.11827443,\n",
       "        0.63992102, 0.14335329, 0.94466892, 0.52184832, 0.41466194,\n",
       "        0.26455561, 0.77423369, 0.45615033, 0.56843395, 0.0187898 ,\n",
       "        0.6176355 , 0.61209572, 0.616934  , 0.94374808, 0.6818203 ,\n",
       "        0.3595079 , 0.43703195, 0.6976312 , 0.06022547, 0.66676672,\n",
       "        0.67063787, 0.21038256, 0.1289263 , 0.31542835, 0.36371077,\n",
       "        0.57019677, 0.43860151, 0.98837384, 0.10204481, 0.20887676,\n",
       "        0.16130952, 0.65310833, 0.2532916 , 0.46631077, 0.24442559,\n",
       "        0.15896958, 0.11037514, 0.65632959, 0.13818295, 0.19658236,\n",
       "        0.36872517, 0.82099323, 0.09710128, 0.83794491, 0.09609841,\n",
       "        0.97645947, 0.4686512 , 0.97676109, 0.60484552, 0.73926358,\n",
       "        0.03918779, 0.28280696, 0.12019656, 0.2961402 , 0.11872772,\n",
       "        0.31798318, 0.41426299, 0.0641475 , 0.69247212, 0.56660145,\n",
       "        0.26538949, 0.52324805, 0.09394051, 0.5759465 , 0.9292962 ,\n",
       "        0.31856895, 0.66741038, 0.13179786, 0.7163272 , 0.28940609,\n",
       "        0.18319136, 0.58651293, 0.02010755, 0.82894003, 0.00469548]),\n",
       " array([4.32425705, 4.41557607, 4.54348415, 4.59683809, 3.51971754,\n",
       "        4.51383967, 3.90480357, 5.24757091, 5.11406991, 4.10307357,\n",
       "        4.82230049, 4.43309343, 4.40361296, 5.07422687, 3.02690599,\n",
       "        2.65789364, 2.94175839, 5.07913241, 5.21620561, 5.30256803,\n",
       "        5.66110931, 4.89880007, 4.34052172, 4.98557773, 2.77867833,\n",
       "        4.52615628, 2.44925306, 5.13558157, 4.2257185 , 3.53406343,\n",
       "        3.41168227, 4.75146977, 3.50392506, 4.00358417, 2.62633431,\n",
       "        4.44377925, 4.41061242, 4.50400281, 5.48334751, 4.47687933,\n",
       "        3.9750703 , 3.67865773, 4.52875851, 3.07259977, 4.80649414,\n",
       "        4.71580219, 2.73137457, 3.30626151, 3.66052635, 4.08997932,\n",
       "        3.86003862, 4.1839306 , 5.12761445, 2.921694  , 2.75045025,\n",
       "        3.33193678, 4.76664394, 3.32897555, 3.80611562, 2.80244377,\n",
       "        3.17433752, 2.78466811, 4.69104437, 3.28093118, 3.56526859,\n",
       "        3.96197885, 4.47469377, 2.65128189, 5.24382528, 2.4599249 ,\n",
       "        5.450415  , 3.46029159, 5.13027979, 3.83305835, 5.01148844,\n",
       "        2.34148806, 3.19377257, 3.28867098, 3.59283499, 2.38802209,\n",
       "        3.11864369, 3.86426739, 2.76967108, 4.31530918, 4.63401836,\n",
       "        3.41013443, 4.10537696, 2.87173151, 4.45796152, 5.09983359,\n",
       "        3.35392792, 4.21207489, 2.58158659, 5.093354  , 3.60776907,\n",
       "        3.04003289, 3.98695343, 2.31467912, 4.54484925, 2.44850305]))"
      ]
     },
     "execution_count": 3,
     "metadata": {},
     "output_type": "execute_result"
    }
   ],
   "source": [
    "# Initializing our inputs and outputs as numpy ndarray\n",
    "X = df['X'].values\n",
    "Y = df['Y'].values\n",
    "\n",
    "# Total number of values\n",
    "N = len(X)\n",
    "X, Y"
   ]
  },
  {
   "cell_type": "markdown",
   "metadata": {},
   "source": [
    "# Prepare values for calculation"
   ]
  },
  {
   "cell_type": "code",
   "execution_count": 4,
   "metadata": {},
   "outputs": [
    {
     "data": {
      "text/html": [
       "<div>\n",
       "<style scoped>\n",
       "    .dataframe tbody tr th:only-of-type {\n",
       "        vertical-align: middle;\n",
       "    }\n",
       "\n",
       "    .dataframe tbody tr th {\n",
       "        vertical-align: top;\n",
       "    }\n",
       "\n",
       "    .dataframe thead th {\n",
       "        text-align: right;\n",
       "    }\n",
       "</style>\n",
       "<table border=\"1\" class=\"dataframe\">\n",
       "  <thead>\n",
       "    <tr style=\"text-align: right;\">\n",
       "      <th></th>\n",
       "      <th>X</th>\n",
       "      <th>Y</th>\n",
       "      <th>X*Y</th>\n",
       "      <th>X^2</th>\n",
       "    </tr>\n",
       "  </thead>\n",
       "  <tbody>\n",
       "    <tr>\n",
       "      <th>0</th>\n",
       "      <td>0.548814</td>\n",
       "      <td>4.324257</td>\n",
       "      <td>2.373211</td>\n",
       "      <td>0.301196</td>\n",
       "    </tr>\n",
       "    <tr>\n",
       "      <th>1</th>\n",
       "      <td>0.715189</td>\n",
       "      <td>4.415576</td>\n",
       "      <td>3.157973</td>\n",
       "      <td>0.511496</td>\n",
       "    </tr>\n",
       "    <tr>\n",
       "      <th>2</th>\n",
       "      <td>0.602763</td>\n",
       "      <td>4.543484</td>\n",
       "      <td>2.738646</td>\n",
       "      <td>0.363324</td>\n",
       "    </tr>\n",
       "    <tr>\n",
       "      <th>3</th>\n",
       "      <td>0.544883</td>\n",
       "      <td>4.596838</td>\n",
       "      <td>2.504740</td>\n",
       "      <td>0.296898</td>\n",
       "    </tr>\n",
       "    <tr>\n",
       "      <th>4</th>\n",
       "      <td>0.423655</td>\n",
       "      <td>3.519718</td>\n",
       "      <td>1.491145</td>\n",
       "      <td>0.179483</td>\n",
       "    </tr>\n",
       "    <tr>\n",
       "      <th>...</th>\n",
       "      <td>...</td>\n",
       "      <td>...</td>\n",
       "      <td>...</td>\n",
       "      <td>...</td>\n",
       "    </tr>\n",
       "    <tr>\n",
       "      <th>95</th>\n",
       "      <td>0.183191</td>\n",
       "      <td>3.040033</td>\n",
       "      <td>0.556908</td>\n",
       "      <td>0.033559</td>\n",
       "    </tr>\n",
       "    <tr>\n",
       "      <th>96</th>\n",
       "      <td>0.586513</td>\n",
       "      <td>3.986953</td>\n",
       "      <td>2.338400</td>\n",
       "      <td>0.343997</td>\n",
       "    </tr>\n",
       "    <tr>\n",
       "      <th>97</th>\n",
       "      <td>0.020108</td>\n",
       "      <td>2.314679</td>\n",
       "      <td>0.046543</td>\n",
       "      <td>0.000404</td>\n",
       "    </tr>\n",
       "    <tr>\n",
       "      <th>98</th>\n",
       "      <td>0.828940</td>\n",
       "      <td>4.544849</td>\n",
       "      <td>3.767407</td>\n",
       "      <td>0.687142</td>\n",
       "    </tr>\n",
       "    <tr>\n",
       "      <th>99</th>\n",
       "      <td>0.004695</td>\n",
       "      <td>2.448503</td>\n",
       "      <td>0.011497</td>\n",
       "      <td>0.000022</td>\n",
       "    </tr>\n",
       "  </tbody>\n",
       "</table>\n",
       "<p>100 rows × 4 columns</p>\n",
       "</div>"
      ],
      "text/plain": [
       "           X         Y       X*Y       X^2\n",
       "0   0.548814  4.324257  2.373211  0.301196\n",
       "1   0.715189  4.415576  3.157973  0.511496\n",
       "2   0.602763  4.543484  2.738646  0.363324\n",
       "3   0.544883  4.596838  2.504740  0.296898\n",
       "4   0.423655  3.519718  1.491145  0.179483\n",
       "..       ...       ...       ...       ...\n",
       "95  0.183191  3.040033  0.556908  0.033559\n",
       "96  0.586513  3.986953  2.338400  0.343997\n",
       "97  0.020108  2.314679  0.046543  0.000404\n",
       "98  0.828940  4.544849  3.767407  0.687142\n",
       "99  0.004695  2.448503  0.011497  0.000022\n",
       "\n",
       "[100 rows x 4 columns]"
      ]
     },
     "execution_count": 4,
     "metadata": {},
     "output_type": "execute_result"
    }
   ],
   "source": [
    "# Sum of product of X and Y\n",
    "df['X*Y'] = df['X'] * df['Y']\n",
    "XY_sum = df['X*Y'].sum()\n",
    "\n",
    "# Sum of squared X\n",
    "df['X^2'] = df['X'] ** 2\n",
    "X_sum_squared = df['X^2'].sum()\n",
    "\n",
    "df"
   ]
  },
  {
   "cell_type": "markdown",
   "metadata": {},
   "source": [
    "# Calculate coeficients"
   ]
  },
  {
   "cell_type": "code",
   "execution_count": 6,
   "metadata": {},
   "outputs": [],
   "source": [
    "# Mean of our inputs and outputs\n",
    "X_mean = np.mean(X)\n",
    "Y_mean = np.mean(Y)\n",
    "\n",
    "# X mean squared\n",
    "X_mean_squared = X_mean ** 2\n",
    "\n",
    "# Coefficient a and b\n",
    "b1 = (XY_sum - N * X_mean * Y_mean) / (X_sum_squared - N * X_mean_squared)\n",
    "b0 = Y_mean - (b1 * X_mean)\n",
    "X_max = np.max(X)\n",
    "X_min = np.min(X)"
   ]
  },
  {
   "cell_type": "markdown",
   "metadata": {},
   "source": [
    "# Plot data"
   ]
  },
  {
   "cell_type": "code",
   "execution_count": 7,
   "metadata": {},
   "outputs": [
    {
     "data": {
      "image/png": "[encoded data removed]",
      "text/plain": [
       "<Figure size 432x288 with 1 Axes>"
      ]
     },
     "metadata": {
      "needs_background": "light"
     },
     "output_type": "display_data"
    }
   ],
   "source": [
    "x = np.linspace(X_min, X_max, 100)  # calculating line values of x and y: generate evenly spaced numbers\n",
    "y = b0 + b1 * x\n",
    "plt.plot(x, y, color='#00ff00', label='Linear Regression')  # plotting line\n",
    "plt.scatter(X, Y, color='#ff0000', label='Data Point')  # plot the data point\n",
    "plt.xlabel('X')  # x-axis label\n",
    "plt.ylabel('Y')  # y-axis label\n",
    "plt.legend()\n",
    "plt.show()"
   ]
  },
  {
   "cell_type": "markdown",
   "metadata": {},
   "source": [
    "# Measure accuracy"
   ]
  },
  {
   "cell_type": "code",
   "execution_count": 8,
   "metadata": {},
   "outputs": [
    {
     "name": "stdout",
     "output_type": "stream",
     "text": [
      "Mean squared error is equal to : 7.62 %\n"
     ]
    }
   ],
   "source": [
    "MSE = 0\n",
    "for i in range(N):\n",
    "    y_pred = b0 + b1 * X[i]\n",
    "    MSE += (Y[i] - y_pred) ** 2\n",
    "MSE = (MSE / N)*100\n",
    "print(\"Mean squared error is equal to : {} %\".format(round(MSE,2)))"
   ]
  },
  {
   "cell_type": "code",
   "execution_count": 12,
   "metadata": {},
   "outputs": [
    {
     "name": "stdout",
     "output_type": "stream",
     "text": [
      "Root squared error is equal to : 2.76 %\n"
     ]
    }
   ],
   "source": [
    "RMSE = np.sqrt(MSE)\n",
    "print(\"Root squared error is equal to : {} %\".format(round(RMSE,2)))"
   ]
  },
  {
   "cell_type": "code",
   "execution_count": 13,
   "metadata": {},
   "outputs": [
    {
     "name": "stdout",
     "output_type": "stream",
     "text": [
      "R2 is equal to : 0.9 \n"
     ]
    }
   ],
   "source": [
    "sum_of_squares = 0\n",
    "sum_of_residuals = 0\n",
    "for i in range(N):\n",
    "    y_pred = b0 + b1 * X[i]\n",
    "    sum_of_squares += (Y[i] - Y_mean) ** 2\n",
    "    sum_of_residuals += (Y[i] - y_pred) ** 2\n",
    "score = 1 - (sum_of_residuals / sum_of_squares)\n",
    "\n",
    "\n",
    "print(\"R2 is equal to : {} \".format(round(score,2)))"
   ]
  },
  {
   "cell_type": "code",
   "execution_count": 15,
   "metadata": {},
   "outputs": [
    {
     "name": "stdout",
     "output_type": "stream",
     "text": [
      "Coefficient b0: 2.558080024157022 and b1: 2.936551060203767\n"
     ]
    }
   ],
   "source": [
    "print(\"Coefficient b0: {0} and b1: {1}\".format(b0, b1))"
   ]
  },
  {
   "cell_type": "code",
   "execution_count": null,
   "metadata": {},
   "outputs": [],
   "source": []
  }
 ],
 "metadata": {
  "kernelspec": {
   "display_name": "Python 3",
   "language": "python",
   "name": "python3"
  },
  "language_info": {
   "codemirror_mode": {
    "name": "ipython",
    "version": 3
   },
   "file_extension": ".py",
   "mimetype": "text/x-python",
   "name": "python",
   "nbconvert_exporter": "python",
   "pygments_lexer": "ipython3",
   "version": "3.8.2"
  }
 },
 "nbformat": 4,
 "nbformat_minor": 2
}
